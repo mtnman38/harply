{
  "nbformat": 4,
  "nbformat_minor": 0,
  "metadata": {
    "colab": {
      "name": "harply-exploration.ipynb",
      "provenance": [],
      "collapsed_sections": [],
      "authorship_tag": "ABX9TyP+Uhd2YchPXwnx4P6K953m",
      "include_colab_link": true
    },
    "kernelspec": {
      "name": "python3",
      "display_name": "Python 3"
    },
    "accelerator": "GPU"
  },
  "cells": [
    {
      "cell_type": "markdown",
      "metadata": {
        "id": "view-in-github",
        "colab_type": "text"
      },
      "source": [
        "<a href=\"https://colab.research.google.com/github/mtnman38/harply/blob/main/harply_exploration.ipynb\" target=\"_parent\"><img src=\"https://colab.research.google.com/assets/colab-badge.svg\" alt=\"Open In Colab\"/></a>"
      ]
    },
    {
      "cell_type": "code",
      "metadata": {
        "id": "EZYnkwGbAyIJ"
      },
      "source": [
        "import tensorflow as tf\n",
        "import numpy as np\n",
        "import pandas as pd\n",
        "import tensorflow_probability as tfp\n",
        "from tensorflow.keras import Model\n",
        "from tensorflow.keras.losses import Loss\n",
        "from tensorflow.nn import relu, softmax\n",
        "from tensorflow.keras.layers import (Dense,\n",
        "                                     Flatten,\n",
        "                                     Reshape,\n",
        "                                     Input,\n",
        "                                     Lambda,\n",
        "                                     Dropout,\n",
        "                                     Layer)\n",
        "\n",
        "tf.keras.backend.set_floatx('float64')"
      ],
      "execution_count": 1,
      "outputs": []
    },
    {
      "cell_type": "markdown",
      "metadata": {
        "id": "_UY_uZ_VBi8X"
      },
      "source": [
        "# **harply** Initial Explorations"
      ]
    },
    {
      "cell_type": "markdown",
      "metadata": {
        "id": "cuQhxaBfC2gq"
      },
      "source": [
        "## Get some data"
      ]
    },
    {
      "cell_type": "code",
      "metadata": {
        "id": "9PB1VAi2Bmzy"
      },
      "source": [
        "ds_url = 'https://archive.ics.uci.edu/ml/machine-learning-databases/wine-quality/winequality-red.csv'\n",
        "column_names = ['fixed acidity',\n",
        "                'volatile acidity', \n",
        "                'citric acid', \n",
        "                'residual sugar',\n",
        "                'chlorides',\n",
        "                'free sulfur dioxide',\n",
        "                'total sulfur dioxide', \n",
        "                'density', \n",
        "                'pH', \n",
        "                'sulphates',\n",
        "                'alcohol', \n",
        "                'quality']"
      ],
      "execution_count": 2,
      "outputs": []
    },
    {
      "cell_type": "code",
      "metadata": {
        "id": "sNMsjXlfCoty"
      },
      "source": [
        "dataset_path = tf.keras.utils.get_file(ds_url.split('/')[-1], ds_url)\n",
        "dataset_csv = pd.read_csv(dataset_path,\n",
        "                          names=column_names,\n",
        "                          na_values=\"?\",\n",
        "                          comment='\\t',\n",
        "                          sep=\";\",\n",
        "                          skipinitialspace=True,\n",
        "                          header=0)\n",
        "\n",
        "df = dataset_csv[['alcohol',\n",
        "                  'pH',\n",
        "                  'density',\n",
        "                  'chlorides']]"
      ],
      "execution_count": 3,
      "outputs": []
    },
    {
      "cell_type": "markdown",
      "metadata": {
        "id": "HakJ9UWIC7wk"
      },
      "source": [
        "## Next steps"
      ]
    },
    {
      "cell_type": "code",
      "metadata": {
        "id": "EeMjCKK85i_U",
        "outputId": "22cdca79-44bd-4ef9-b8b9-803de776cf3d",
        "colab": {
          "base_uri": "https://localhost:8080/",
          "height": 204
        }
      },
      "source": [
        "df.head()"
      ],
      "execution_count": 4,
      "outputs": [
        {
          "output_type": "execute_result",
          "data": {
            "text/html": [
              "<div>\n",
              "<style scoped>\n",
              "    .dataframe tbody tr th:only-of-type {\n",
              "        vertical-align: middle;\n",
              "    }\n",
              "\n",
              "    .dataframe tbody tr th {\n",
              "        vertical-align: top;\n",
              "    }\n",
              "\n",
              "    .dataframe thead th {\n",
              "        text-align: right;\n",
              "    }\n",
              "</style>\n",
              "<table border=\"1\" class=\"dataframe\">\n",
              "  <thead>\n",
              "    <tr style=\"text-align: right;\">\n",
              "      <th></th>\n",
              "      <th>alcohol</th>\n",
              "      <th>pH</th>\n",
              "      <th>density</th>\n",
              "      <th>chlorides</th>\n",
              "    </tr>\n",
              "  </thead>\n",
              "  <tbody>\n",
              "    <tr>\n",
              "      <th>0</th>\n",
              "      <td>9.4</td>\n",
              "      <td>3.51</td>\n",
              "      <td>0.9978</td>\n",
              "      <td>0.076</td>\n",
              "    </tr>\n",
              "    <tr>\n",
              "      <th>1</th>\n",
              "      <td>9.8</td>\n",
              "      <td>3.20</td>\n",
              "      <td>0.9968</td>\n",
              "      <td>0.098</td>\n",
              "    </tr>\n",
              "    <tr>\n",
              "      <th>2</th>\n",
              "      <td>9.8</td>\n",
              "      <td>3.26</td>\n",
              "      <td>0.9970</td>\n",
              "      <td>0.092</td>\n",
              "    </tr>\n",
              "    <tr>\n",
              "      <th>3</th>\n",
              "      <td>9.8</td>\n",
              "      <td>3.16</td>\n",
              "      <td>0.9980</td>\n",
              "      <td>0.075</td>\n",
              "    </tr>\n",
              "    <tr>\n",
              "      <th>4</th>\n",
              "      <td>9.4</td>\n",
              "      <td>3.51</td>\n",
              "      <td>0.9978</td>\n",
              "      <td>0.076</td>\n",
              "    </tr>\n",
              "  </tbody>\n",
              "</table>\n",
              "</div>"
            ],
            "text/plain": [
              "   alcohol    pH  density  chlorides\n",
              "0      9.4  3.51   0.9978      0.076\n",
              "1      9.8  3.20   0.9968      0.098\n",
              "2      9.8  3.26   0.9970      0.092\n",
              "3      9.8  3.16   0.9980      0.075\n",
              "4      9.4  3.51   0.9978      0.076"
            ]
          },
          "metadata": {
            "tags": []
          },
          "execution_count": 4
        }
      ]
    },
    {
      "cell_type": "markdown",
      "metadata": {
        "id": "RHab0NLJUw4q"
      },
      "source": [
        "Let's take a look at correlations and some summary descriptions."
      ]
    },
    {
      "cell_type": "code",
      "metadata": {
        "id": "othPtCvcCwnd",
        "outputId": "e76c04b9-ffe4-46b5-ac40-0cc8806b46b6",
        "colab": {
          "base_uri": "https://localhost:8080/",
          "height": 173
        }
      },
      "source": [
        "df.corr()"
      ],
      "execution_count": 5,
      "outputs": [
        {
          "output_type": "execute_result",
          "data": {
            "text/html": [
              "<div>\n",
              "<style scoped>\n",
              "    .dataframe tbody tr th:only-of-type {\n",
              "        vertical-align: middle;\n",
              "    }\n",
              "\n",
              "    .dataframe tbody tr th {\n",
              "        vertical-align: top;\n",
              "    }\n",
              "\n",
              "    .dataframe thead th {\n",
              "        text-align: right;\n",
              "    }\n",
              "</style>\n",
              "<table border=\"1\" class=\"dataframe\">\n",
              "  <thead>\n",
              "    <tr style=\"text-align: right;\">\n",
              "      <th></th>\n",
              "      <th>alcohol</th>\n",
              "      <th>pH</th>\n",
              "      <th>density</th>\n",
              "      <th>chlorides</th>\n",
              "    </tr>\n",
              "  </thead>\n",
              "  <tbody>\n",
              "    <tr>\n",
              "      <th>alcohol</th>\n",
              "      <td>1.000000</td>\n",
              "      <td>0.205633</td>\n",
              "      <td>-0.496180</td>\n",
              "      <td>-0.221141</td>\n",
              "    </tr>\n",
              "    <tr>\n",
              "      <th>pH</th>\n",
              "      <td>0.205633</td>\n",
              "      <td>1.000000</td>\n",
              "      <td>-0.341699</td>\n",
              "      <td>-0.265026</td>\n",
              "    </tr>\n",
              "    <tr>\n",
              "      <th>density</th>\n",
              "      <td>-0.496180</td>\n",
              "      <td>-0.341699</td>\n",
              "      <td>1.000000</td>\n",
              "      <td>0.200632</td>\n",
              "    </tr>\n",
              "    <tr>\n",
              "      <th>chlorides</th>\n",
              "      <td>-0.221141</td>\n",
              "      <td>-0.265026</td>\n",
              "      <td>0.200632</td>\n",
              "      <td>1.000000</td>\n",
              "    </tr>\n",
              "  </tbody>\n",
              "</table>\n",
              "</div>"
            ],
            "text/plain": [
              "            alcohol        pH   density  chlorides\n",
              "alcohol    1.000000  0.205633 -0.496180  -0.221141\n",
              "pH         0.205633  1.000000 -0.341699  -0.265026\n",
              "density   -0.496180 -0.341699  1.000000   0.200632\n",
              "chlorides -0.221141 -0.265026  0.200632   1.000000"
            ]
          },
          "metadata": {
            "tags": []
          },
          "execution_count": 5
        }
      ]
    },
    {
      "cell_type": "code",
      "metadata": {
        "id": "nb_yDWcnUTQg",
        "outputId": "9eb6de4a-974a-4e25-c597-5c19e6a3ddef",
        "colab": {
          "base_uri": "https://localhost:8080/",
          "height": 297
        }
      },
      "source": [
        "df.describe()"
      ],
      "execution_count": 6,
      "outputs": [
        {
          "output_type": "execute_result",
          "data": {
            "text/html": [
              "<div>\n",
              "<style scoped>\n",
              "    .dataframe tbody tr th:only-of-type {\n",
              "        vertical-align: middle;\n",
              "    }\n",
              "\n",
              "    .dataframe tbody tr th {\n",
              "        vertical-align: top;\n",
              "    }\n",
              "\n",
              "    .dataframe thead th {\n",
              "        text-align: right;\n",
              "    }\n",
              "</style>\n",
              "<table border=\"1\" class=\"dataframe\">\n",
              "  <thead>\n",
              "    <tr style=\"text-align: right;\">\n",
              "      <th></th>\n",
              "      <th>alcohol</th>\n",
              "      <th>pH</th>\n",
              "      <th>density</th>\n",
              "      <th>chlorides</th>\n",
              "    </tr>\n",
              "  </thead>\n",
              "  <tbody>\n",
              "    <tr>\n",
              "      <th>count</th>\n",
              "      <td>1599.000000</td>\n",
              "      <td>1599.000000</td>\n",
              "      <td>1599.000000</td>\n",
              "      <td>1599.000000</td>\n",
              "    </tr>\n",
              "    <tr>\n",
              "      <th>mean</th>\n",
              "      <td>10.422983</td>\n",
              "      <td>3.311113</td>\n",
              "      <td>0.996747</td>\n",
              "      <td>0.087467</td>\n",
              "    </tr>\n",
              "    <tr>\n",
              "      <th>std</th>\n",
              "      <td>1.065668</td>\n",
              "      <td>0.154386</td>\n",
              "      <td>0.001887</td>\n",
              "      <td>0.047065</td>\n",
              "    </tr>\n",
              "    <tr>\n",
              "      <th>min</th>\n",
              "      <td>8.400000</td>\n",
              "      <td>2.740000</td>\n",
              "      <td>0.990070</td>\n",
              "      <td>0.012000</td>\n",
              "    </tr>\n",
              "    <tr>\n",
              "      <th>25%</th>\n",
              "      <td>9.500000</td>\n",
              "      <td>3.210000</td>\n",
              "      <td>0.995600</td>\n",
              "      <td>0.070000</td>\n",
              "    </tr>\n",
              "    <tr>\n",
              "      <th>50%</th>\n",
              "      <td>10.200000</td>\n",
              "      <td>3.310000</td>\n",
              "      <td>0.996750</td>\n",
              "      <td>0.079000</td>\n",
              "    </tr>\n",
              "    <tr>\n",
              "      <th>75%</th>\n",
              "      <td>11.100000</td>\n",
              "      <td>3.400000</td>\n",
              "      <td>0.997835</td>\n",
              "      <td>0.090000</td>\n",
              "    </tr>\n",
              "    <tr>\n",
              "      <th>max</th>\n",
              "      <td>14.900000</td>\n",
              "      <td>4.010000</td>\n",
              "      <td>1.003690</td>\n",
              "      <td>0.611000</td>\n",
              "    </tr>\n",
              "  </tbody>\n",
              "</table>\n",
              "</div>"
            ],
            "text/plain": [
              "           alcohol           pH      density    chlorides\n",
              "count  1599.000000  1599.000000  1599.000000  1599.000000\n",
              "mean     10.422983     3.311113     0.996747     0.087467\n",
              "std       1.065668     0.154386     0.001887     0.047065\n",
              "min       8.400000     2.740000     0.990070     0.012000\n",
              "25%       9.500000     3.210000     0.995600     0.070000\n",
              "50%      10.200000     3.310000     0.996750     0.079000\n",
              "75%      11.100000     3.400000     0.997835     0.090000\n",
              "max      14.900000     4.010000     1.003690     0.611000"
            ]
          },
          "metadata": {
            "tags": []
          },
          "execution_count": 6
        }
      ]
    },
    {
      "cell_type": "markdown",
      "metadata": {
        "id": "3gbttYo4ZUqY"
      },
      "source": [
        "The idea will be to mimic these descriptions and correlations."
      ]
    },
    {
      "cell_type": "markdown",
      "metadata": {
        "id": "UwUi1wfYankL"
      },
      "source": [
        "## Build out the generator model"
      ]
    },
    {
      "cell_type": "code",
      "metadata": {
        "id": "e-MxWAoiGFiH"
      },
      "source": [
        "class Linear(Layer):\n",
        "    def __init__(self, units0, units1, units2):\n",
        "        super(Linear, self).__init__()\n",
        "        self.units0 = units0\n",
        "        self.units1 = units1\n",
        "        self.units2 = units2\n",
        "\n",
        "    def build(self, input_shape):\n",
        "        self.w = self.add_weight(\n",
        "            shape=(self.units0, self.units1, self.units2),\n",
        "            initializer=\"random_normal\",\n",
        "            trainable=True,\n",
        "        )\n",
        "        self.b = self.add_weight(\n",
        "            shape=(self.units2,),\n",
        "             initializer=\"random_normal\", \n",
        "             trainable=True\n",
        "        )\n",
        "\n",
        "    def call(self, inputs):\n",
        "        return tf.matmul(inputs, self.w) + self.b"
      ],
      "execution_count": 7,
      "outputs": []
    },
    {
      "cell_type": "code",
      "metadata": {
        "id": "TEN0_WNAMeK0"
      },
      "source": [
        "class CustomModel(Model):\n",
        "  def __init__(self):\n",
        "    super(CustomModel, self).__init__()\n",
        "    self.linear1 = Linear(1599, 4, 10)\n",
        "    self.flatten1 = Flatten()\n",
        "    self.dense1 = Dense(4)\n",
        "\n",
        "  def call(self, x):\n",
        "    x = self.linear1(x)\n",
        "    x = softmax(x)\n",
        "    x = self.flatten1(x)\n",
        "    x = self.dense1(x)\n",
        "    return x"
      ],
      "execution_count": 8,
      "outputs": []
    },
    {
      "cell_type": "code",
      "metadata": {
        "id": "sTxphqwxRHva"
      },
      "source": [
        "model = CustomModel()"
      ],
      "execution_count": 9,
      "outputs": []
    },
    {
      "cell_type": "code",
      "metadata": {
        "id": "NBQmrEjiA0Pu"
      },
      "source": [
        "class CustomLoss(Loss):\n",
        "\n",
        "  def call(self, y_true, y_pred):\n",
        "    y_true_corr = tfp.stats.correlation(y_true)\n",
        "    y_pred_corr = tfp.stats.correlation(y_pred)\n",
        "    totals = tf.reduce_mean(tf.square(y_true_corr - y_pred_corr), axis=0)\n",
        "    means = tf.reduce_mean(tf.square(y_true - y_pred), axis=0)\n",
        "    return tf.reduce_mean(totals) + tf.reduce_mean(means)"
      ],
      "execution_count": 10,
      "outputs": []
    },
    {
      "cell_type": "code",
      "metadata": {
        "id": "TEvBc39Vi2xy"
      },
      "source": [
        "optimizer = tf.keras.optimizers.Adam(learning_rate=1e-3)\n",
        "loss_fn = CustomLoss()"
      ],
      "execution_count": 11,
      "outputs": []
    },
    {
      "cell_type": "code",
      "metadata": {
        "id": "VDdehAPokCP8"
      },
      "source": [
        "data = tf.constant(df.to_numpy())\n",
        "epochs = 500"
      ],
      "execution_count": 12,
      "outputs": []
    },
    {
      "cell_type": "code",
      "metadata": {
        "id": "7VXDcKkEjo_h"
      },
      "source": [
        "for each in range(epochs):\n",
        "  with tf.GradientTape() as tape:\n",
        "    y_pred = model(data)\n",
        "    loss_value = loss_fn(data, y_pred)\n",
        "\n",
        "  gradients = tape.gradient(loss_value, model.trainable_weights)\n",
        "  optimizer.apply_gradients(zip(gradients, model.trainable_weights))"
      ],
      "execution_count": 13,
      "outputs": []
    },
    {
      "cell_type": "code",
      "metadata": {
        "id": "hpeH7UavN1BR",
        "outputId": "6d7fcd36-2230-4e46-bcb6-d4e2faf7a008",
        "colab": {
          "base_uri": "https://localhost:8080/"
        }
      },
      "source": [
        "model(data)"
      ],
      "execution_count": 14,
      "outputs": [
        {
          "output_type": "execute_result",
          "data": {
            "text/plain": [
              "<tf.Tensor: shape=(1599, 4), dtype=float64, numpy=\n",
              "array([[ 9.40796342,  3.5091313 ,  0.98659709,  0.09150087],\n",
              "       [ 9.80298409,  3.20252452,  1.15364944,  0.10500415],\n",
              "       [ 9.80407279,  3.26016147,  1.04359304,  0.0872506 ],\n",
              "       ...,\n",
              "       [10.99475684,  3.4193684 ,  1.06581186,  0.06361694],\n",
              "       [10.20139078,  3.56877528,  0.95878785,  0.06908192],\n",
              "       [10.99514049,  3.39035739,  1.05198327,  0.05221967]])>"
            ]
          },
          "metadata": {
            "tags": []
          },
          "execution_count": 14
        }
      ]
    },
    {
      "cell_type": "code",
      "metadata": {
        "id": "d8IJ1NZHI0Bu",
        "outputId": "36b624b3-94b3-4614-b4c5-6c820020a6e3",
        "colab": {
          "base_uri": "https://localhost:8080/"
        }
      },
      "source": [
        "predictions_df = pd.DataFrame(model(data).numpy())\n",
        "print('Correlations of synthetic dataset:')\n",
        "print(predictions_df.corr())\n",
        "print('Descriptions of synthetic dataset:')\n",
        "print(predictions_df.describe())"
      ],
      "execution_count": 15,
      "outputs": [
        {
          "output_type": "stream",
          "text": [
            "Correlations of synthetic dataset:\n",
            "          0         1         2         3\n",
            "0  1.000000  0.204041 -0.566276 -0.231973\n",
            "1  0.204041  1.000000 -0.322507 -0.286715\n",
            "2 -0.566276 -0.322507  1.000000  0.207679\n",
            "3 -0.231973 -0.286715  0.207679  1.000000\n",
            "Descriptions of synthetic dataset:\n",
            "                 0            1            2            3\n",
            "count  1599.000000  1599.000000  1599.000000  1599.000000\n",
            "mean     10.422744     3.312442     1.004713     0.084494\n",
            "std       1.061157     0.153913     0.071220     0.066396\n",
            "min       8.398502     2.718405     0.657352    -0.073612\n",
            "25%       9.505077     3.210682     0.964996     0.059916\n",
            "50%      10.198738     3.311449     1.007889     0.074718\n",
            "75%      11.095701     3.401933     1.051974     0.090943\n",
            "max      14.892051     3.991706     1.198238     0.794609\n"
          ],
          "name": "stdout"
        }
      ]
    },
    {
      "cell_type": "code",
      "metadata": {
        "id": "ACJ3uqXZLOt6",
        "outputId": "4be190b6-fce5-49c1-ea40-f6d616324566",
        "colab": {
          "base_uri": "https://localhost:8080/"
        }
      },
      "source": [
        "original_df = pd.DataFrame(data.numpy())\n",
        "print('Correlations of original dataset:')\n",
        "print(original_df.corr())\n",
        "print('Descriptions of original dataset:')\n",
        "print(original_df.describe())"
      ],
      "execution_count": 16,
      "outputs": [
        {
          "output_type": "stream",
          "text": [
            "Correlations of original dataset:\n",
            "          0         1         2         3\n",
            "0  1.000000  0.205633 -0.496180 -0.221141\n",
            "1  0.205633  1.000000 -0.341699 -0.265026\n",
            "2 -0.496180 -0.341699  1.000000  0.200632\n",
            "3 -0.221141 -0.265026  0.200632  1.000000\n",
            "Descriptions of original dataset:\n",
            "                 0            1            2            3\n",
            "count  1599.000000  1599.000000  1599.000000  1599.000000\n",
            "mean     10.422983     3.311113     0.996747     0.087467\n",
            "std       1.065668     0.154386     0.001887     0.047065\n",
            "min       8.400000     2.740000     0.990070     0.012000\n",
            "25%       9.500000     3.210000     0.995600     0.070000\n",
            "50%      10.200000     3.310000     0.996750     0.079000\n",
            "75%      11.100000     3.400000     0.997835     0.090000\n",
            "max      14.900000     4.010000     1.003690     0.611000\n"
          ],
          "name": "stdout"
        }
      ]
    },
    {
      "cell_type": "code",
      "metadata": {
        "id": "8RL1j1XaWlNz"
      },
      "source": [
        ""
      ],
      "execution_count": 16,
      "outputs": []
    }
  ]
}