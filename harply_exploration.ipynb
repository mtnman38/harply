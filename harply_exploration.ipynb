{
  "nbformat": 4,
  "nbformat_minor": 0,
  "metadata": {
    "colab": {
      "name": "harply-exploration.ipynb",
      "provenance": [],
      "collapsed_sections": [],
      "authorship_tag": "ABX9TyMiSr0YVP7bi6KbriXcQsYH",
      "include_colab_link": true
    },
    "kernelspec": {
      "name": "python3",
      "display_name": "Python 3"
    }
  },
  "cells": [
    {
      "cell_type": "markdown",
      "metadata": {
        "id": "view-in-github",
        "colab_type": "text"
      },
      "source": [
        "<a href=\"https://colab.research.google.com/github/mtnman38/harply/blob/main/harply_exploration.ipynb\" target=\"_parent\"><img src=\"https://colab.research.google.com/assets/colab-badge.svg\" alt=\"Open In Colab\"/></a>"
      ]
    },
    {
      "cell_type": "code",
      "metadata": {
        "id": "EZYnkwGbAyIJ"
      },
      "source": [
        "import tensorflow as tf\n",
        "import numpy as np\n",
        "import pandas as pd\n",
        "import tensorflow_probability as tfp\n",
        "from tensorflow.keras import Model\n",
        "from tensorflow.keras.losses import Loss\n",
        "from tensorflow.nn import relu\n",
        "from tensorflow.keras.layers import (Dense,\n",
        "                                     Reshape,\n",
        "                                     Input,\n",
        "                                     Lambda,\n",
        "                                     Layer)\n",
        "\n",
        "tf.keras.backend.set_floatx('float64')"
      ],
      "execution_count": 57,
      "outputs": []
    },
    {
      "cell_type": "markdown",
      "metadata": {
        "id": "_UY_uZ_VBi8X"
      },
      "source": [
        "# harply initial explorations"
      ]
    },
    {
      "cell_type": "markdown",
      "metadata": {
        "id": "cuQhxaBfC2gq"
      },
      "source": [
        "## Get some data"
      ]
    },
    {
      "cell_type": "code",
      "metadata": {
        "id": "9PB1VAi2Bmzy"
      },
      "source": [
        "ds_url = 'https://archive.ics.uci.edu/ml/machine-learning-databases/wine-quality/winequality-red.csv'\n",
        "column_names = ['fixed acidity',\n",
        "                'volatile acidity', \n",
        "                'citric acid', \n",
        "                'residual sugar',\n",
        "                'chlorides',\n",
        "                'free sulfur dioxide',\n",
        "                'total sulfur dioxide', \n",
        "                'density', \n",
        "                'pH', \n",
        "                'sulphates',\n",
        "                'alcohol', \n",
        "                'quality']"
      ],
      "execution_count": 58,
      "outputs": []
    },
    {
      "cell_type": "code",
      "metadata": {
        "id": "sNMsjXlfCoty"
      },
      "source": [
        "dataset_path = tf.keras.utils.get_file(ds_url.split('/')[-1], ds_url)\n",
        "dataset_csv = pd.read_csv(dataset_path,\n",
        "                          names=column_names,\n",
        "                          na_values=\"?\",\n",
        "                          comment='\\t',\n",
        "                          sep=\";\",\n",
        "                          skipinitialspace=True,\n",
        "                          header=0)\n",
        "\n",
        "df = dataset_csv[['alcohol',\n",
        "                  'pH',\n",
        "                  'density',\n",
        "                  'chlorides']]"
      ],
      "execution_count": 59,
      "outputs": []
    },
    {
      "cell_type": "markdown",
      "metadata": {
        "id": "HakJ9UWIC7wk"
      },
      "source": [
        "## Next steps"
      ]
    },
    {
      "cell_type": "code",
      "metadata": {
        "id": "EeMjCKK85i_U",
        "outputId": "cb2b8036-1a29-41c9-ca47-6e65eff02656",
        "colab": {
          "base_uri": "https://localhost:8080/",
          "height": 204
        }
      },
      "source": [
        "df.head()"
      ],
      "execution_count": 60,
      "outputs": [
        {
          "output_type": "execute_result",
          "data": {
            "text/html": [
              "<div>\n",
              "<style scoped>\n",
              "    .dataframe tbody tr th:only-of-type {\n",
              "        vertical-align: middle;\n",
              "    }\n",
              "\n",
              "    .dataframe tbody tr th {\n",
              "        vertical-align: top;\n",
              "    }\n",
              "\n",
              "    .dataframe thead th {\n",
              "        text-align: right;\n",
              "    }\n",
              "</style>\n",
              "<table border=\"1\" class=\"dataframe\">\n",
              "  <thead>\n",
              "    <tr style=\"text-align: right;\">\n",
              "      <th></th>\n",
              "      <th>alcohol</th>\n",
              "      <th>pH</th>\n",
              "      <th>density</th>\n",
              "      <th>chlorides</th>\n",
              "    </tr>\n",
              "  </thead>\n",
              "  <tbody>\n",
              "    <tr>\n",
              "      <th>0</th>\n",
              "      <td>9.4</td>\n",
              "      <td>3.51</td>\n",
              "      <td>0.9978</td>\n",
              "      <td>0.076</td>\n",
              "    </tr>\n",
              "    <tr>\n",
              "      <th>1</th>\n",
              "      <td>9.8</td>\n",
              "      <td>3.20</td>\n",
              "      <td>0.9968</td>\n",
              "      <td>0.098</td>\n",
              "    </tr>\n",
              "    <tr>\n",
              "      <th>2</th>\n",
              "      <td>9.8</td>\n",
              "      <td>3.26</td>\n",
              "      <td>0.9970</td>\n",
              "      <td>0.092</td>\n",
              "    </tr>\n",
              "    <tr>\n",
              "      <th>3</th>\n",
              "      <td>9.8</td>\n",
              "      <td>3.16</td>\n",
              "      <td>0.9980</td>\n",
              "      <td>0.075</td>\n",
              "    </tr>\n",
              "    <tr>\n",
              "      <th>4</th>\n",
              "      <td>9.4</td>\n",
              "      <td>3.51</td>\n",
              "      <td>0.9978</td>\n",
              "      <td>0.076</td>\n",
              "    </tr>\n",
              "  </tbody>\n",
              "</table>\n",
              "</div>"
            ],
            "text/plain": [
              "   alcohol    pH  density  chlorides\n",
              "0      9.4  3.51   0.9978      0.076\n",
              "1      9.8  3.20   0.9968      0.098\n",
              "2      9.8  3.26   0.9970      0.092\n",
              "3      9.8  3.16   0.9980      0.075\n",
              "4      9.4  3.51   0.9978      0.076"
            ]
          },
          "metadata": {
            "tags": []
          },
          "execution_count": 60
        }
      ]
    },
    {
      "cell_type": "markdown",
      "metadata": {
        "id": "RHab0NLJUw4q"
      },
      "source": [
        "Let's take a look at correlations and some summary descriptions."
      ]
    },
    {
      "cell_type": "code",
      "metadata": {
        "id": "othPtCvcCwnd",
        "outputId": "e4a328d2-4b85-42e1-eef8-f156f19bfad2",
        "colab": {
          "base_uri": "https://localhost:8080/",
          "height": 173
        }
      },
      "source": [
        "df.corr()"
      ],
      "execution_count": 61,
      "outputs": [
        {
          "output_type": "execute_result",
          "data": {
            "text/html": [
              "<div>\n",
              "<style scoped>\n",
              "    .dataframe tbody tr th:only-of-type {\n",
              "        vertical-align: middle;\n",
              "    }\n",
              "\n",
              "    .dataframe tbody tr th {\n",
              "        vertical-align: top;\n",
              "    }\n",
              "\n",
              "    .dataframe thead th {\n",
              "        text-align: right;\n",
              "    }\n",
              "</style>\n",
              "<table border=\"1\" class=\"dataframe\">\n",
              "  <thead>\n",
              "    <tr style=\"text-align: right;\">\n",
              "      <th></th>\n",
              "      <th>alcohol</th>\n",
              "      <th>pH</th>\n",
              "      <th>density</th>\n",
              "      <th>chlorides</th>\n",
              "    </tr>\n",
              "  </thead>\n",
              "  <tbody>\n",
              "    <tr>\n",
              "      <th>alcohol</th>\n",
              "      <td>1.000000</td>\n",
              "      <td>0.205633</td>\n",
              "      <td>-0.496180</td>\n",
              "      <td>-0.221141</td>\n",
              "    </tr>\n",
              "    <tr>\n",
              "      <th>pH</th>\n",
              "      <td>0.205633</td>\n",
              "      <td>1.000000</td>\n",
              "      <td>-0.341699</td>\n",
              "      <td>-0.265026</td>\n",
              "    </tr>\n",
              "    <tr>\n",
              "      <th>density</th>\n",
              "      <td>-0.496180</td>\n",
              "      <td>-0.341699</td>\n",
              "      <td>1.000000</td>\n",
              "      <td>0.200632</td>\n",
              "    </tr>\n",
              "    <tr>\n",
              "      <th>chlorides</th>\n",
              "      <td>-0.221141</td>\n",
              "      <td>-0.265026</td>\n",
              "      <td>0.200632</td>\n",
              "      <td>1.000000</td>\n",
              "    </tr>\n",
              "  </tbody>\n",
              "</table>\n",
              "</div>"
            ],
            "text/plain": [
              "            alcohol        pH   density  chlorides\n",
              "alcohol    1.000000  0.205633 -0.496180  -0.221141\n",
              "pH         0.205633  1.000000 -0.341699  -0.265026\n",
              "density   -0.496180 -0.341699  1.000000   0.200632\n",
              "chlorides -0.221141 -0.265026  0.200632   1.000000"
            ]
          },
          "metadata": {
            "tags": []
          },
          "execution_count": 61
        }
      ]
    },
    {
      "cell_type": "code",
      "metadata": {
        "id": "nb_yDWcnUTQg",
        "outputId": "0ac00b3d-b31c-4941-abe1-bcda90a77cbe",
        "colab": {
          "base_uri": "https://localhost:8080/",
          "height": 297
        }
      },
      "source": [
        "df.describe()"
      ],
      "execution_count": 62,
      "outputs": [
        {
          "output_type": "execute_result",
          "data": {
            "text/html": [
              "<div>\n",
              "<style scoped>\n",
              "    .dataframe tbody tr th:only-of-type {\n",
              "        vertical-align: middle;\n",
              "    }\n",
              "\n",
              "    .dataframe tbody tr th {\n",
              "        vertical-align: top;\n",
              "    }\n",
              "\n",
              "    .dataframe thead th {\n",
              "        text-align: right;\n",
              "    }\n",
              "</style>\n",
              "<table border=\"1\" class=\"dataframe\">\n",
              "  <thead>\n",
              "    <tr style=\"text-align: right;\">\n",
              "      <th></th>\n",
              "      <th>alcohol</th>\n",
              "      <th>pH</th>\n",
              "      <th>density</th>\n",
              "      <th>chlorides</th>\n",
              "    </tr>\n",
              "  </thead>\n",
              "  <tbody>\n",
              "    <tr>\n",
              "      <th>count</th>\n",
              "      <td>1599.000000</td>\n",
              "      <td>1599.000000</td>\n",
              "      <td>1599.000000</td>\n",
              "      <td>1599.000000</td>\n",
              "    </tr>\n",
              "    <tr>\n",
              "      <th>mean</th>\n",
              "      <td>10.422983</td>\n",
              "      <td>3.311113</td>\n",
              "      <td>0.996747</td>\n",
              "      <td>0.087467</td>\n",
              "    </tr>\n",
              "    <tr>\n",
              "      <th>std</th>\n",
              "      <td>1.065668</td>\n",
              "      <td>0.154386</td>\n",
              "      <td>0.001887</td>\n",
              "      <td>0.047065</td>\n",
              "    </tr>\n",
              "    <tr>\n",
              "      <th>min</th>\n",
              "      <td>8.400000</td>\n",
              "      <td>2.740000</td>\n",
              "      <td>0.990070</td>\n",
              "      <td>0.012000</td>\n",
              "    </tr>\n",
              "    <tr>\n",
              "      <th>25%</th>\n",
              "      <td>9.500000</td>\n",
              "      <td>3.210000</td>\n",
              "      <td>0.995600</td>\n",
              "      <td>0.070000</td>\n",
              "    </tr>\n",
              "    <tr>\n",
              "      <th>50%</th>\n",
              "      <td>10.200000</td>\n",
              "      <td>3.310000</td>\n",
              "      <td>0.996750</td>\n",
              "      <td>0.079000</td>\n",
              "    </tr>\n",
              "    <tr>\n",
              "      <th>75%</th>\n",
              "      <td>11.100000</td>\n",
              "      <td>3.400000</td>\n",
              "      <td>0.997835</td>\n",
              "      <td>0.090000</td>\n",
              "    </tr>\n",
              "    <tr>\n",
              "      <th>max</th>\n",
              "      <td>14.900000</td>\n",
              "      <td>4.010000</td>\n",
              "      <td>1.003690</td>\n",
              "      <td>0.611000</td>\n",
              "    </tr>\n",
              "  </tbody>\n",
              "</table>\n",
              "</div>"
            ],
            "text/plain": [
              "           alcohol           pH      density    chlorides\n",
              "count  1599.000000  1599.000000  1599.000000  1599.000000\n",
              "mean     10.422983     3.311113     0.996747     0.087467\n",
              "std       1.065668     0.154386     0.001887     0.047065\n",
              "min       8.400000     2.740000     0.990070     0.012000\n",
              "25%       9.500000     3.210000     0.995600     0.070000\n",
              "50%      10.200000     3.310000     0.996750     0.079000\n",
              "75%      11.100000     3.400000     0.997835     0.090000\n",
              "max      14.900000     4.010000     1.003690     0.611000"
            ]
          },
          "metadata": {
            "tags": []
          },
          "execution_count": 62
        }
      ]
    },
    {
      "cell_type": "markdown",
      "metadata": {
        "id": "3gbttYo4ZUqY"
      },
      "source": [
        "The idea will be to mimic these descriptions and correlations."
      ]
    },
    {
      "cell_type": "markdown",
      "metadata": {
        "id": "UwUi1wfYankL"
      },
      "source": [
        "## Build out the generator model"
      ]
    },
    {
      "cell_type": "code",
      "metadata": {
        "id": "e-MxWAoiGFiH"
      },
      "source": [
        "class Linear(Layer):\n",
        "    def __init__(self, units=32):\n",
        "        super(Linear, self).__init__()\n",
        "        self.units = units\n",
        "\n",
        "    def build(self, input_shape):\n",
        "        self.w = self.add_weight(\n",
        "            shape=(input_shape[-1], self.units),\n",
        "            initializer=\"random_normal\",\n",
        "            trainable=True,\n",
        "        )\n",
        "        self.b = self.add_weight(\n",
        "            shape=(self.units,),\n",
        "             initializer=\"random_normal\", \n",
        "             trainable=True\n",
        "        )\n",
        "\n",
        "    def call(self, inputs):\n",
        "        return tf.matmul(inputs, self.w) + self.b"
      ],
      "execution_count": 63,
      "outputs": []
    },
    {
      "cell_type": "code",
      "metadata": {
        "id": "62EzZf5pJU26",
        "outputId": "cbaf32cb-0357-40db-8643-c0cb6c85d42f",
        "colab": {
          "base_uri": "https://localhost:8080/"
        }
      },
      "source": [
        "test = Linear(units=100)\n",
        "test.build(input_shape=(None, 4))\n",
        "test(df.to_numpy())"
      ],
      "execution_count": 64,
      "outputs": [
        {
          "output_type": "execute_result",
          "data": {
            "text/plain": [
              "<tf.Tensor: shape=(1599, 100), dtype=float64, numpy=\n",
              "array([[-0.35039552,  0.40275999, -1.46403443, ...,  0.43307281,\n",
              "         0.05762452, -0.26180968],\n",
              "       [-0.36581034,  0.42643754, -1.49681807, ...,  0.41319748,\n",
              "         0.02934732, -0.24095331],\n",
              "       [-0.36583009,  0.42539092, -1.50025373, ...,  0.41731054,\n",
              "         0.03395869, -0.24546401],\n",
              "       ...,\n",
              "       [-0.4132475 ,  0.47937426, -1.66153116, ...,  0.43304801,\n",
              "         0.0300763 , -0.26201244],\n",
              "       [-0.38214342,  0.4399439 , -1.56890998, ...,  0.44039334,\n",
              "         0.05092532, -0.26880593],\n",
              "       [-0.4128767 ,  0.47904194, -1.65951984, ...,  0.43061393,\n",
              "         0.02902435, -0.26100923]])>"
            ]
          },
          "metadata": {
            "tags": []
          },
          "execution_count": 64
        }
      ]
    },
    {
      "cell_type": "code",
      "metadata": {
        "id": "TEN0_WNAMeK0"
      },
      "source": [
        "class CustomModel(Model):\n",
        "  def __init__(self):\n",
        "    super(CustomModel, self).__init__()\n",
        "    self.linear1 = Linear(units=64)\n",
        "    self.linear2 = Linear(units=32)\n",
        "    self.linear3 = Linear(units=16)\n",
        "    self.linear4 = Linear(units=4)\n",
        "\n",
        "  def call(self, x):\n",
        "    x = self.linear1(x)\n",
        "    x = relu(x)\n",
        "    x = self.linear2(x)\n",
        "    x = relu(x)\n",
        "    x = self.linear3(x)\n",
        "    x = relu(x)\n",
        "    x = self.linear4(x)\n",
        "    x = relu(x)\n",
        "    return x"
      ],
      "execution_count": 65,
      "outputs": []
    },
    {
      "cell_type": "code",
      "metadata": {
        "id": "sTxphqwxRHva"
      },
      "source": [
        "model = CustomModel()"
      ],
      "execution_count": 66,
      "outputs": []
    },
    {
      "cell_type": "code",
      "metadata": {
        "id": "kG2juAW6RJTz",
        "outputId": "e45a6fd8-844e-4fb9-b268-ac72ce0e6a4b",
        "colab": {
          "base_uri": "https://localhost:8080/"
        }
      },
      "source": [
        "model(df.to_numpy())"
      ],
      "execution_count": 67,
      "outputs": [
        {
          "output_type": "execute_result",
          "data": {
            "text/plain": [
              "<tf.Tensor: shape=(1599, 4), dtype=float64, numpy=\n",
              "array([[0.        , 0.05310696, 0.        , 0.        ],\n",
              "       [0.        , 0.05298296, 0.        , 0.        ],\n",
              "       [0.        , 0.05298645, 0.        , 0.        ],\n",
              "       ...,\n",
              "       [0.        , 0.05259442, 0.        , 0.        ],\n",
              "       [0.        , 0.05287698, 0.        , 0.        ],\n",
              "       [0.        , 0.05258639, 0.        , 0.        ]])>"
            ]
          },
          "metadata": {
            "tags": []
          },
          "execution_count": 67
        }
      ]
    },
    {
      "cell_type": "code",
      "metadata": {
        "id": "lzZHFDujUiZh",
        "outputId": "c81c0b7b-98ab-499c-8738-572ff6d74653",
        "colab": {
          "base_uri": "https://localhost:8080/"
        }
      },
      "source": [
        "df.corr().to_numpy()"
      ],
      "execution_count": 68,
      "outputs": [
        {
          "output_type": "execute_result",
          "data": {
            "text/plain": [
              "array([[ 1.        ,  0.20563251, -0.49617977, -0.22114054],\n",
              "       [ 0.20563251,  1.        , -0.34169933, -0.26502613],\n",
              "       [-0.49617977, -0.34169933,  1.        ,  0.20063233],\n",
              "       [-0.22114054, -0.26502613,  0.20063233,  1.        ]])"
            ]
          },
          "metadata": {
            "tags": []
          },
          "execution_count": 68
        }
      ]
    },
    {
      "cell_type": "code",
      "metadata": {
        "id": "bFiWGg_2Uu-w"
      },
      "source": [
        ""
      ],
      "execution_count": 68,
      "outputs": []
    },
    {
      "cell_type": "code",
      "metadata": {
        "id": "WFURS2BkRK37",
        "outputId": "21b92b50-b82f-4f42-9344-1d2318d24cba",
        "colab": {
          "base_uri": "https://localhost:8080/",
          "height": 130
        }
      },
      "source": [
        "class CustomLoss(Loss):\n",
        "\n",
        "  def call(self, y_true, y_pred):\n",
        "    "
      ],
      "execution_count": 69,
      "outputs": [
        {
          "output_type": "error",
          "ename": "SyntaxError",
          "evalue": "ignored",
          "traceback": [
            "\u001b[0;36m  File \u001b[0;32m\"<ipython-input-69-3ab53f354351>\"\u001b[0;36m, line \u001b[0;32m4\u001b[0m\n\u001b[0;31m    \u001b[0m\n\u001b[0m    ^\u001b[0m\n\u001b[0;31mSyntaxError\u001b[0m\u001b[0;31m:\u001b[0m unexpected EOF while parsing\n"
          ]
        }
      ]
    }
  ]
}