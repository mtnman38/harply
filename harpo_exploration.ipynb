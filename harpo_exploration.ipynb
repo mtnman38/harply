{
  "nbformat": 4,
  "nbformat_minor": 0,
  "metadata": {
    "colab": {
      "name": "harpo-exploration.ipynb",
      "provenance": [],
      "collapsed_sections": [],
      "authorship_tag": "ABX9TyMXac0MIYXTh+xv70ouv8a/",
      "include_colab_link": true
    },
    "kernelspec": {
      "name": "python3",
      "display_name": "Python 3"
    }
  },
  "cells": [
    {
      "cell_type": "markdown",
      "metadata": {
        "id": "view-in-github",
        "colab_type": "text"
      },
      "source": [
        "<a href=\"https://colab.research.google.com/github/mtnman38/harpo/blob/main/harpo_exploration.ipynb\" target=\"_parent\"><img src=\"https://colab.research.google.com/assets/colab-badge.svg\" alt=\"Open In Colab\"/></a>"
      ]
    },
    {
      "cell_type": "code",
      "metadata": {
        "id": "EZYnkwGbAyIJ"
      },
      "source": [
        "import tensorflow as tf\n",
        "import pandas as pd"
      ],
      "execution_count": 4,
      "outputs": []
    },
    {
      "cell_type": "markdown",
      "metadata": {
        "id": "_UY_uZ_VBi8X"
      },
      "source": [
        "# Harpo initial explorations"
      ]
    },
    {
      "cell_type": "markdown",
      "metadata": {
        "id": "cuQhxaBfC2gq"
      },
      "source": [
        "#### Get some data"
      ]
    },
    {
      "cell_type": "code",
      "metadata": {
        "id": "9PB1VAi2Bmzy"
      },
      "source": [
        "ds_url = 'https://archive.ics.uci.edu/ml/machine-learning-databases/wine-quality/winequality-red.csv'\n",
        "column_names = ['fixed acidity',\n",
        "                'volatile acidity', \n",
        "                'citric acid', \n",
        "                'residual sugar',\n",
        "                'chlorides',\n",
        "                'free sulfur dioxide',\n",
        "                'total sulfur dioxide', \n",
        "                'density', \n",
        "                'pH', \n",
        "                'sulphates',\n",
        "                'alcohol', \n",
        "                'quality']"
      ],
      "execution_count": 2,
      "outputs": []
    },
    {
      "cell_type": "code",
      "metadata": {
        "id": "sNMsjXlfCoty"
      },
      "source": [
        "dataset_path = tf.keras.utils.get_file(ds_url.split('/')[-1], ds_url)\n",
        "dataset_csv = pd.read_csv(dataset_path,\n",
        "                          names=column_names,\n",
        "                          na_values=\"?\",\n",
        "                          comment='\\t',\n",
        "                          sep=\";\",\n",
        "                          skipinitialspace=True,\n",
        "                          header=0)\n",
        "\n",
        "dataset_final = dataset_csv[['alcohol',\n",
        "                             'chlorides',\n",
        "                             'quality']]"
      ],
      "execution_count": 5,
      "outputs": []
    },
    {
      "cell_type": "code",
      "metadata": {
        "id": "YuY44jSUCsiv",
        "outputId": "eac0e7a5-5cc8-4cb3-eb30-f65134b0eada",
        "colab": {
          "base_uri": "https://localhost:8080/",
          "height": 204
        }
      },
      "source": [
        "dataset_final.head()"
      ],
      "execution_count": 6,
      "outputs": [
        {
          "output_type": "execute_result",
          "data": {
            "text/html": [
              "<div>\n",
              "<style scoped>\n",
              "    .dataframe tbody tr th:only-of-type {\n",
              "        vertical-align: middle;\n",
              "    }\n",
              "\n",
              "    .dataframe tbody tr th {\n",
              "        vertical-align: top;\n",
              "    }\n",
              "\n",
              "    .dataframe thead th {\n",
              "        text-align: right;\n",
              "    }\n",
              "</style>\n",
              "<table border=\"1\" class=\"dataframe\">\n",
              "  <thead>\n",
              "    <tr style=\"text-align: right;\">\n",
              "      <th></th>\n",
              "      <th>alcohol</th>\n",
              "      <th>chlorides</th>\n",
              "      <th>quality</th>\n",
              "    </tr>\n",
              "  </thead>\n",
              "  <tbody>\n",
              "    <tr>\n",
              "      <th>0</th>\n",
              "      <td>9.4</td>\n",
              "      <td>0.076</td>\n",
              "      <td>5</td>\n",
              "    </tr>\n",
              "    <tr>\n",
              "      <th>1</th>\n",
              "      <td>9.8</td>\n",
              "      <td>0.098</td>\n",
              "      <td>5</td>\n",
              "    </tr>\n",
              "    <tr>\n",
              "      <th>2</th>\n",
              "      <td>9.8</td>\n",
              "      <td>0.092</td>\n",
              "      <td>5</td>\n",
              "    </tr>\n",
              "    <tr>\n",
              "      <th>3</th>\n",
              "      <td>9.8</td>\n",
              "      <td>0.075</td>\n",
              "      <td>6</td>\n",
              "    </tr>\n",
              "    <tr>\n",
              "      <th>4</th>\n",
              "      <td>9.4</td>\n",
              "      <td>0.076</td>\n",
              "      <td>5</td>\n",
              "    </tr>\n",
              "  </tbody>\n",
              "</table>\n",
              "</div>"
            ],
            "text/plain": [
              "   alcohol  chlorides  quality\n",
              "0      9.4      0.076        5\n",
              "1      9.8      0.098        5\n",
              "2      9.8      0.092        5\n",
              "3      9.8      0.075        6\n",
              "4      9.4      0.076        5"
            ]
          },
          "metadata": {
            "tags": []
          },
          "execution_count": 6
        }
      ]
    },
    {
      "cell_type": "markdown",
      "metadata": {
        "id": "HakJ9UWIC7wk"
      },
      "source": [
        "#### Next steps"
      ]
    },
    {
      "cell_type": "code",
      "metadata": {
        "id": "othPtCvcCwnd"
      },
      "source": [
        ""
      ],
      "execution_count": null,
      "outputs": []
    }
  ]
}